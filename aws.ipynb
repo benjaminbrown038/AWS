{
  "nbformat": 4,
  "nbformat_minor": 0,
  "metadata": {
    "colab": {
      "provenance": [],
      "authorship_tag": "ABX9TyP3/BrOAHI/ynwjWwdRd0TV",
      "include_colab_link": true
    },
    "kernelspec": {
      "name": "python3",
      "display_name": "Python 3"
    },
    "language_info": {
      "name": "python"
    }
  },
  "cells": [
    {
      "cell_type": "markdown",
      "metadata": {
        "id": "view-in-github",
        "colab_type": "text"
      },
      "source": [
        "<a href=\"https://colab.research.google.com/github/benjaminbrown038/aws-sagemaker/blob/main/aws.ipynb\" target=\"_parent\"><img src=\"https://colab.research.google.com/assets/colab-badge.svg\" alt=\"Open In Colab\"/></a>"
      ]
    },
    {
      "cell_type": "code",
      "execution_count": 11,
      "metadata": {
        "id": "atlUfBmblPPn"
      },
      "outputs": [],
      "source": [
        "%%capture\n",
        "\n",
        "!pip3 install sagemaker\n",
        "\n",
        "import sagemaker\n",
        "from sagemaker import s3\n",
        "import boto3"
      ]
    },
    {
      "cell_type": "code",
      "source": [],
      "metadata": {
        "id": "tBDDcQAvm9Ui"
      },
      "execution_count": null,
      "outputs": []
    }
  ]
}