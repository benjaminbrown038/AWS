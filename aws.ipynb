{
  "nbformat": 4,
  "nbformat_minor": 0,
  "metadata": {
    "colab": {
      "provenance": [],
      "include_colab_link": true
    },
    "kernelspec": {
      "name": "python3",
      "display_name": "Python 3"
    },
    "language_info": {
      "name": "python"
    }
  },
  "cells": [
    {
      "cell_type": "markdown",
      "metadata": {
        "id": "view-in-github",
        "colab_type": "text"
      },
      "source": [
        "<a href=\"https://colab.research.google.com/github/benjaminbrown038/aws-sagemaker/blob/main/aws.ipynb\" target=\"_parent\"><img src=\"https://colab.research.google.com/assets/colab-badge.svg\" alt=\"Open In Colab\"/></a>"
      ]
    },
    {
      "cell_type": "code",
      "execution_count": null,
      "metadata": {
        "id": "atlUfBmblPPn"
      },
      "outputs": [],
      "source": [
        "%%capture\n",
        "\n",
        "!pip3 install sagemaker\n",
        "\n",
        "import sagemaker\n",
        "from sagemaker import s3\n",
        "from sagemaker.pytorch import PyTorch\n",
        "from sagemaker import get_execution_role\n",
        "import boto3\n",
        "\n",
        "import os \n",
        "import json \n",
        "\n",
        "import loggin \n",
        "import boto3\n",
        "from botocore.exceptions import ClientError\n"
      ]
    },
    {
      "cell_type": "code",
      "source": [
        "import "
      ],
      "metadata": {
        "id": "tBDDcQAvm9Ui"
      },
      "execution_count": null,
      "outputs": []
    },
    {
      "cell_type": "code",
      "source": [
        "import argparse \n",
        "import gzip \n",
        "import json \n",
        "import logging \n",
        "import os \n",
        "import sys \n",
        "import numpy as np\n",
        "import torch\n",
        "import torch.nn as nn\n",
        "import torch.nn.functional as F\n",
        "import torch.optim.as optim \n",
        "from torch.utils.data import DataLoader,Dataset\n",
        "\n",
        "logger = logging.get_Logger(__name__)\n",
        "logger.setLevel(loggin.DEBUG)\n",
        "logger.addHandler(loggin.StreamHandler(sys.stdout))\n",
        "\n",
        "\n",
        "class Net(nn.module):\n",
        "    def __init__(self):\n",
        "        super(Net,self).__init__()\n",
        "        self.conv1 = nn.Conv2d(1,10,kernel_size = 5)\n",
        "        self.conv2 = nn.Conv2d(10,20,kernel_size = 5)\n",
        "        self.conv2_drop = nn.Dropout2d()\n",
        "        self.fc1 = nn.Linear(320,50)\n",
        "        self.fc2 = nn.Linear(50,10)\n",
        "        "
      ],
      "metadata": {
        "id": "CiAeTa-ERa0w"
      },
      "execution_count": null,
      "outputs": []
    },
    {
      "cell_type": "code",
      "source": [],
      "metadata": {
        "id": "RAXy1zFLRa3z"
      },
      "execution_count": null,
      "outputs": []
    },
    {
      "cell_type": "code",
      "source": [],
      "metadata": {
        "id": "1G_8Z6PeRa7M"
      },
      "execution_count": null,
      "outputs": []
    },
    {
      "cell_type": "code",
      "source": [],
      "metadata": {
        "id": "5YUHo4hURa-U"
      },
      "execution_count": null,
      "outputs": []
    },
    {
      "cell_type": "code",
      "source": [],
      "metadata": {
        "id": "c_X0HYlcRbDA"
      },
      "execution_count": null,
      "outputs": []
    }
  ]
}