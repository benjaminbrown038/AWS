{
  "nbformat": 4,
  "nbformat_minor": 0,
  "metadata": {
    "colab": {
      "provenance": [],
      "include_colab_link": true
    },
    "kernelspec": {
      "name": "python3",
      "display_name": "Python 3"
    },
    "language_info": {
      "name": "python"
    }
  },
  "cells": [
    {
      "cell_type": "markdown",
      "metadata": {
        "id": "view-in-github",
        "colab_type": "text"
      },
      "source": [
        "<a href=\"https://colab.research.google.com/github/benjaminbrown038/aws-sagemaker/blob/main/aws.ipynb\" target=\"_parent\"><img src=\"https://colab.research.google.com/assets/colab-badge.svg\" alt=\"Open In Colab\"/></a>"
      ]
    },
    {
      "cell_type": "code",
      "execution_count": null,
      "metadata": {
        "id": "atlUfBmblPPn"
      },
      "outputs": [],
      "source": [
        "%%capture\n",
        "\n",
        "!pip3 install sagemaker\n",
        "\n",
        "import sagemaker\n",
        "from sagemaker import s3\n",
        "from sagemaker.pytorch import PyTorch\n",
        "from sagemaker import get_execution_role\n",
        "import boto3\n",
        "\n",
        "import os \n",
        "import json \n",
        "\n",
        "import boto3\n",
        "from botocore.exceptions import ClientError\n"
      ]
    },
    {
      "cell_type": "code",
      "source": [
        "sess = sagemaker.Session()\n",
        "role = get_execution_role()\n",
        "output_path = \"s3://\" + sess.default_bucket() + \"/DEMO-mnist\"\n",
        "      "
      ],
      "metadata": {
        "id": "xv3Q5WP9vLZb"
      },
      "execution_count": null,
      "outputs": []
    },
    {
      "cell_type": "code",
      "source": [],
      "metadata": {
        "id": "RAXy1zFLRa3z",
        "outputId": "77ed8b90-90b2-4e88-a274-f18e011c1944",
        "colab": {
          "base_uri": "https://localhost:8080/",
          "height": 133
        }
      },
      "execution_count": 1,
      "outputs": [
        {
          "output_type": "error",
          "ename": "SyntaxError",
          "evalue": "ignored",
          "traceback": [
            "\u001b[0;36m  File \u001b[0;32m\"<ipython-input-1-a83d41e19a96>\"\u001b[0;36m, line \u001b[0;32m1\u001b[0m\n\u001b[0;31m    import lambda\u001b[0m\n\u001b[0m           ^\u001b[0m\n\u001b[0;31mSyntaxError\u001b[0m\u001b[0;31m:\u001b[0m invalid syntax\n"
          ]
        }
      ]
    },
    {
      "cell_type": "code",
      "source": [],
      "metadata": {
        "id": "1G_8Z6PeRa7M"
      },
      "execution_count": null,
      "outputs": []
    },
    {
      "cell_type": "code",
      "source": [],
      "metadata": {
        "id": "5YUHo4hURa-U"
      },
      "execution_count": null,
      "outputs": []
    },
    {
      "cell_type": "code",
      "source": [],
      "metadata": {
        "id": "c_X0HYlcRbDA"
      },
      "execution_count": null,
      "outputs": []
    }
  ]
}