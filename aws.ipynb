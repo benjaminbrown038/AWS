{
  "nbformat": 4,
  "nbformat_minor": 0,
  "metadata": {
    "colab": {
      "provenance": [],
      "include_colab_link": true
    },
    "kernelspec": {
      "name": "python3",
      "display_name": "Python 3"
    },
    "language_info": {
      "name": "python"
    }
  },
  "cells": [
    {
      "cell_type": "markdown",
      "metadata": {
        "id": "view-in-github",
        "colab_type": "text"
      },
      "source": [
        "<a href=\"https://colab.research.google.com/github/benjaminbrown038/AWS/blob/main/aws.ipynb\" target=\"_parent\"><img src=\"https://colab.research.google.com/assets/colab-badge.svg\" alt=\"Open In Colab\"/></a>"
      ]
    },
    {
      "cell_type": "code",
      "execution_count": null,
      "metadata": {
        "id": "atlUfBmblPPn"
      },
      "outputs": [],
      "source": [
        "%%capture\n",
        "\n",
        "!pip3 install sagemaker\n",
        "\n",
        "import sagemaker\n",
        "\n",
        "import boto3\n",
        "\n",
        "from sagemaker import s3\n",
        "\n",
        "from sagemaker.pytorch import PyTorch\n",
        "from sagemaker import get_execution_role\n",
        "\n",
        "import os \n",
        "import json \n",
        "\n"
      ]
    }
  ]
}