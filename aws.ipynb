{
  "nbformat": 4,
  "nbformat_minor": 0,
  "metadata": {
    "colab": {
      "provenance": [],
      "include_colab_link": true
    },
    "kernelspec": {
      "name": "python3",
      "display_name": "Python 3"
    },
    "language_info": {
      "name": "python"
    }
  },
  "cells": [
    {
      "cell_type": "markdown",
      "metadata": {
        "id": "view-in-github",
        "colab_type": "text"
      },
      "source": [
        "<a href=\"https://colab.research.google.com/github/benjaminbrown038/AWS/blob/main/aws.ipynb\" target=\"_parent\"><img src=\"https://colab.research.google.com/assets/colab-badge.svg\" alt=\"Open In Colab\"/></a>"
      ]
    },
    {
      "cell_type": "code",
      "execution_count": null,
      "metadata": {
        "id": "atlUfBmblPPn"
      },
      "outputs": [],
      "source": [
        "%%capture\n",
        "\n",
        "!pip3 install sagemaker\n",
        "\n",
        "import sagemaker\n",
        "\n",
        "from sagemaker import s3\n",
        "\n",
        "from sagemaker.pytorch import PyTorch\n",
        "from sagemaker import get_execution_role\n",
        "from sagemaker import image_uris\n",
        "\n",
        "import boto3\n",
        "\n",
        "import os \n",
        "import json \n",
        "\n",
        "import boto3\n",
        "from botocore.exceptions import ClientError\n"
      ]
    },
    {
      "cell_type": "code",
      "source": [
        "aws_region='<aws_region>'\n",
        "sagemaker_client = boto3.client('sagemaker', region_name=aws_region)\n",
        "sagemaker_role= \"arn:aws:iam::<region>:<account>:role/*\"\n",
        "\n",
        "framework='<framework>'\n",
        "version = '<version-number>'\n",
        "\n",
        "container = image_uris.retrieve(region=aws_region, \n",
        "                                framework=framework, \n",
        "                                version=version)\n",
        "\n",
        "s3_bucket = '<your-bucket-name>' \n",
        "\n",
        "bucket_prefix = '<directory-name>'\n",
        "\n",
        "model_filename = '<model-name>.tar.gz'\n",
        "\n",
        "model_s3_key = f'{bucket_prefix}/'+model_filename\n",
        "\n",
        "model_url = f's3://{s3_bucket}/{model_s3_key}'                            \n",
        "\n",
        "\n"
      ],
      "metadata": {
        "id": "xv3Q5WP9vLZb"
      },
      "execution_count": null,
      "outputs": []
    },
    {
      "cell_type": "code",
      "source": [
        "endpoint_config_name = '<endpoint-config-name>'\n",
        "model_name='<The_name_of_your_model>'\n",
        "                            \n",
        "                            \n",
        "instance_type = '<instance-type>'\n",
        "endpoint_config_response = sagemaker_client.create_endpoint_config(\n",
        "    EndpointConfigName=endpoint_config_name, \n",
        "    ProductionVariants=[\n",
        "{\n",
        "            \"VariantName\": \"variant1\", \n",
        "            \"ModelName\": model_name, \n",
        "            \"InstanceType\": instance_type, \n",
        "            \"InitialInstanceCount\": 1 \n",
        "}])\n",
        "\n",
        "print(f\"Created EndpointConfig: {endpoint_config_response['EndpointConfigArn']}\")"
      ],
      "metadata": {
        "id": "LmGEVnRbUU8v"
      },
      "execution_count": null,
      "outputs": []
    },
    {
      "cell_type": "code",
      "source": [
        "endpoint_name = '<endpoint-name>' \n",
        "\n",
        "endpoint_config_name='<endpoint-config-name>'\n",
        "\n",
        "create_endpoint_response = sagemaker_client.create_endpoint(\n",
        "                                            EndpointName=endpoint_name, \n",
        "                                            EndpointConfigName=endpoint_config_name) \n"
      ],
      "metadata": {
        "id": "lXFzAQJQUlJc"
      },
      "execution_count": null,
      "outputs": []
    },
    {
      "cell_type": "code",
      "source": [
        "sess = sagemaker.Session()\n",
        "role = get_execution_role()\n",
        "output_path = \"s3://\" + sess.default_bucket() + \"/DEMO-mnist\"\n",
        "      "
      ],
      "metadata": {
        "id": "RAXy1zFLRa3z"
      },
      "execution_count": null,
      "outputs": []
    },
    {
      "cell_type": "code",
      "source": [
        "Referen"
      ],
      "metadata": {
        "id": "1G_8Z6PeRa7M"
      },
      "execution_count": null,
      "outputs": []
    },
    {
      "cell_type": "markdown",
      "source": [
        "References: \n",
        "\n",
        "- https://docs.aws.amazon.com/sagemaker/latest/dg/realtime-endpoints-deployment.html"
      ],
      "metadata": {
        "id": "kNkAe2FDUt88"
      }
    },
    {
      "cell_type": "code",
      "source": [],
      "metadata": {
        "id": "5YUHo4hURa-U"
      },
      "execution_count": null,
      "outputs": []
    },
    {
      "cell_type": "code",
      "source": [],
      "metadata": {
        "id": "c_X0HYlcRbDA"
      },
      "execution_count": null,
      "outputs": []
    }
  ]
}