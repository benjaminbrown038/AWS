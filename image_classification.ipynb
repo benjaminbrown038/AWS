{
  "nbformat": 4,
  "nbformat_minor": 0,
  "metadata": {
    "colab": {
      "provenance": [],
      "authorship_tag": "ABX9TyMsv70Ch2eoXQ8OBEGOdvrt",
      "include_colab_link": true
    },
    "kernelspec": {
      "name": "python3",
      "display_name": "Python 3"
    },
    "language_info": {
      "name": "python"
    }
  },
  "cells": [
    {
      "cell_type": "markdown",
      "metadata": {
        "id": "view-in-github",
        "colab_type": "text"
      },
      "source": [
        "<a href=\"https://colab.research.google.com/github/benjaminbrown038/AWS/blob/main/image_classification.ipynb\" target=\"_parent\"><img src=\"https://colab.research.google.com/assets/colab-badge.svg\" alt=\"Open In Colab\"/></a>"
      ]
    },
    {
      "cell_type": "markdown",
      "source": [],
      "metadata": {
        "id": "Xu8P7TOxGL3o"
      }
    },
    {
      "cell_type": "code",
      "source": [],
      "metadata": {
        "id": "XUVxAkexGL-s"
      },
      "execution_count": null,
      "outputs": []
    },
    {
      "cell_type": "markdown",
      "source": [],
      "metadata": {
        "id": "CxILLrOvGMFr"
      }
    },
    {
      "cell_type": "code",
      "source": [],
      "metadata": {
        "id": "6zdvo0s6GMLr"
      },
      "execution_count": null,
      "outputs": []
    },
    {
      "cell_type": "markdown",
      "source": [],
      "metadata": {
        "id": "xnVXEuiSGMSv"
      }
    },
    {
      "cell_type": "code",
      "source": [],
      "metadata": {
        "id": "vg-kT1A2GMZf"
      },
      "execution_count": null,
      "outputs": []
    }
  ]
}